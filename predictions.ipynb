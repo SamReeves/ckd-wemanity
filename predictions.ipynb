{
 "cells": [
  {
   "attachments": {},
   "cell_type": "markdown",
   "metadata": {},
   "source": [
    "# Predictions"
   ]
  },
  {
   "cell_type": "code",
   "execution_count": 20,
   "metadata": {},
   "outputs": [
    {
     "name": "stdout",
     "output_type": "stream",
     "text": [
      "0.9761904761904762\n",
      "[[23  0]\n",
      " [ 1 18]]\n",
      "              precision    recall  f1-score   support\n",
      "\n",
      "         0.0       0.96      1.00      0.98        23\n",
      "         1.0       1.00      0.95      0.97        19\n",
      "\n",
      "    accuracy                           0.98        42\n",
      "   macro avg       0.98      0.97      0.98        42\n",
      "weighted avg       0.98      0.98      0.98        42\n",
      "\n"
     ]
    }
   ],
   "source": [
    "import pandas as pd\n",
    "import dill as pickle\n",
    "from sklearn import model_selection, naive_bayes, metrics\n",
    "import joblib\n",
    "\n",
    "# Load CKD_clean.csv\n",
    "df = pd.read_csv('CKD_clean.csv')\n",
    "cols = df.columns\n",
    "\n",
    "train, test = model_selection.train_test_split(df, test_size=0.2)\n",
    "\n",
    "# Naive Bayes Classifier\n",
    "model = naive_bayes.GaussianNB()\n",
    "model.fit(train[cols[:-1]], train[cols[-1]])\n",
    "preds = model.predict(test[cols[:-1]])\n",
    "\n",
    "# Accuracy\n",
    "print(metrics.accuracy_score(test[cols[-1]], preds))\n",
    "\n",
    "# Confusion Matrix\n",
    "print(metrics.confusion_matrix(test[cols[-1]], preds))\n",
    "\n",
    "# Classification Report\n",
    "print(metrics.classification_report(test[cols[-1]], preds))\n"
   ]
  },
  {
   "attachments": {},
   "cell_type": "markdown",
   "metadata": {},
   "source": [
    "That's a pretty accurate model."
   ]
  },
  {
   "cell_type": "code",
   "execution_count": 21,
   "metadata": {},
   "outputs": [
    {
     "data": {
      "text/plain": [
       "['model.pkl']"
      ]
     },
     "execution_count": 21,
     "metadata": {},
     "output_type": "execute_result"
    }
   ],
   "source": [
    "# save the model with joblib\n",
    "joblib.dump(model, 'model.pkl')"
   ]
  },
  {
   "cell_type": "code",
   "execution_count": 22,
   "metadata": {},
   "outputs": [
    {
     "name": "stdout",
     "output_type": "stream",
     "text": [
      "[1. 1. 1. 1. 1. 1. 1. 1. 1. 1. 1. 1. 1. 1.]\n"
     ]
    }
   ],
   "source": [
    "# Load dummy data\n",
    "# All observations are positive \n",
    "df = pd.read_csv('dummy.csv')\n",
    "\n",
    "# Load the model from joblib\n",
    "loaded_model = joblib.load('model.pkl')\n",
    "\n",
    "# Predict\n",
    "preds = loaded_model.predict(df)\n",
    "\n",
    "# Print predictions\n",
    "print(preds)"
   ]
  }
 ],
 "metadata": {
  "kernelspec": {
   "display_name": "venv",
   "language": "python",
   "name": "python3"
  },
  "language_info": {
   "codemirror_mode": {
    "name": "ipython",
    "version": 3
   },
   "file_extension": ".py",
   "mimetype": "text/x-python",
   "name": "python",
   "nbconvert_exporter": "python",
   "pygments_lexer": "ipython3",
   "version": "3.9.2"
  },
  "orig_nbformat": 4,
  "vscode": {
   "interpreter": {
    "hash": "9aef288ae513b5f5e8fb14eba54707e090910b167aa022f40dfa15aa3d13c4a5"
   }
  }
 },
 "nbformat": 4,
 "nbformat_minor": 2
}
